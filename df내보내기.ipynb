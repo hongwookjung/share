{
 "cells": [
  {
   "cell_type": "code",
   "execution_count": 2,
   "metadata": {},
   "outputs": [],
   "source": [
    "import numpy as np\n",
    "import pandas as pd"
   ]
  },
  {
   "cell_type": "code",
   "execution_count": null,
   "metadata": {},
   "outputs": [],
   "source": [
    "list1 = [1,2,3,4]\n",
    "list2 = ['a','b','c','d']\n",
    "df_list = pd.DataFrame({'col1':list1, 'col2':list2})\n",
    "df_list"
   ]
  },
  {
   "cell_type": "markdown",
   "metadata": {},
   "source": [
    "CSV로 내보내기"
   ]
  },
  {
   "cell_type": "code",
   "execution_count": null,
   "metadata": {},
   "outputs": [],
   "source": [
    "#내보내기\n",
    "df_list.to_csv('D:/git/vscode_git/python_help/pandas/예제파일/filename.csv',encoding='cp949',index=None) #index 제거\n",
    "#불러오기\n",
    "df = pd.read_csv('D:/git/vscode_git/python_help/pandas/예제파일/filename.csv',encoding='cp949', index_col=0) #index 제거\n",
    "df"
   ]
  },
  {
   "cell_type": "markdown",
   "metadata": {},
   "source": [
    "TXT로 내보내기"
   ]
  },
  {
   "cell_type": "code",
   "execution_count": null,
   "metadata": {},
   "outputs": [],
   "source": [
    "#내보내기\n",
    "df_list.to_csv('D:/git/vscode_git/python_help/pandas/예제파일/filename.txt',encoding='cp949',index=None) #index 제거\n",
    "#불러오기\n",
    "df = pd.read_csv('D:/git/vscode_git/python_help/pandas/예제파일/filename.txt',encoding='cp949', index_col=0) #index 제거\n",
    "df"
   ]
  },
  {
   "cell_type": "markdown",
   "metadata": {},
   "source": [
    "XLSX로 내보내기"
   ]
  },
  {
   "cell_type": "code",
   "execution_count": null,
   "metadata": {},
   "outputs": [],
   "source": [
    "#내보내기\n",
    "df_list.to_excel('D:/git/vscode_git/python_help/pandas/예제파일/filename.xlsx',encoding='cp949',index=None)\n",
    "#불러오기\n",
    "df = pd.read_excel('D:/git/vscode_git/python_help/pandas/예제파일/filename.xlsx', index_col=0) #index 제거 #encoding입력시 error발생\n",
    "df"
   ]
  }
 ],
 "metadata": {
  "kernelspec": {
   "display_name": "Python 3.9.13 ('base')",
   "language": "python",
   "name": "python3"
  },
  "language_info": {
   "codemirror_mode": {
    "name": "ipython",
    "version": 3
   },
   "file_extension": ".py",
   "mimetype": "text/x-python",
   "name": "python",
   "nbconvert_exporter": "python",
   "pygments_lexer": "ipython3",
   "version": "3.9.13"
  },
  "orig_nbformat": 4,
  "vscode": {
   "interpreter": {
    "hash": "c28a6f264baf383f07a12fec52427f968141d82ff4d5590215e2d24a13f8b966"
   }
  }
 },
 "nbformat": 4,
 "nbformat_minor": 2
}
